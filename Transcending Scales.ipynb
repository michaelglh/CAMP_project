{
 "cells": [
  {
   "cell_type": "markdown",
   "metadata": {},
   "source": [
    "# Transcending Scales"
   ]
  },
  {
   "cell_type": "code",
   "execution_count": 1,
   "metadata": {},
   "outputs": [],
   "source": [
    "from brian2 import *"
   ]
  },
  {
   "cell_type": "markdown",
   "metadata": {},
   "source": [
    "## Single Neuron Transfer Property\n",
    "### Single Neuron Current Injection"
   ]
  },
  {
   "cell_type": "code",
   "execution_count": 2,
   "metadata": {},
   "outputs": [],
   "source": [
    "start_scope() #Ignore brian objects created prior to this command\n",
    "# neuronal parameters\n",
    "N = 1 # total number of neurons\n",
    "vth = -55*mV# threshold potential\n",
    "vr = -70*mV# reset potential\n",
    "tau = 20.0*ms # membrane time constant\n",
    "R = 4e7*ohm"
   ]
  },
  {
   "cell_type": "code",
   "execution_count": 3,
   "metadata": {},
   "outputs": [],
   "source": [
    "#Equations are assigned as strings\n",
    "eqs_neurons='''\n",
    "inp : amp\n",
    "dv/dt = -v/tau + inp*R : volt (unless refractory)\n",
    "'''\n",
    "#volt here represents the unit of the variable defined by the equation"
   ]
  },
  {
   "cell_type": "code",
   "execution_count": null,
   "metadata": {},
   "outputs": [],
   "source": [
    "P=NeuronGroup(N=N,model=eqs_neurons,threshold='v>=vth',reset='v=vr',refractory=2*ms,method='euler')\n",
    "\n",
    "P.v = vth*uniform(size=N)#initial value\n",
    "P.inp = uniform(size=N) * 40*mV #input"
   ]
  }
 ],
 "metadata": {
  "kernelspec": {
   "display_name": "Python 3",
   "language": "python",
   "name": "python3"
  },
  "language_info": {
   "codemirror_mode": {
    "name": "ipython",
    "version": 3
   },
   "file_extension": ".py",
   "mimetype": "text/x-python",
   "name": "python",
   "nbconvert_exporter": "python",
   "pygments_lexer": "ipython3",
   "version": "3.6.8"
  }
 },
 "nbformat": 4,
 "nbformat_minor": 2
}
